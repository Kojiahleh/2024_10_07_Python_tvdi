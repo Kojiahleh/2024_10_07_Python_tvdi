{
 "cells": [
  {
   "cell_type": "code",
   "execution_count": 21,
   "metadata": {},
   "outputs": [],
   "source": [
    "class Person():\n",
    "    #自訂的init,建立內建的attribute\n",
    "    def __init__(self,n:str,a:int): #type hint\n",
    "        self.name=n #attribute\n",
    "        self.age=a  #attribute"
   ]
  },
  {
   "cell_type": "code",
   "execution_count": 22,
   "metadata": {},
   "outputs": [
    {
     "name": "stdout",
     "output_type": "stream",
     "text": [
      "robert\n",
      "18\n",
      "徐國堂\n",
      "38\n"
     ]
    }
   ],
   "source": [
    "#初始化,initial\n",
    "p1=Person(n=\"robert\",a=\"18\")\n",
    "print(p1.name)\n",
    "print(p1.age)\n",
    "\n",
    "p2=Person(n=\"徐國堂\",a=\"38\")\n",
    "print(p2.name)\n",
    "print(p2.age)"
   ]
  }
 ],
 "metadata": {
  "kernelspec": {
   "display_name": "tvdi",
   "language": "python",
   "name": "python3"
  },
  "language_info": {
   "codemirror_mode": {
    "name": "ipython",
    "version": 3
   },
   "file_extension": ".py",
   "mimetype": "text/x-python",
   "name": "python",
   "nbconvert_exporter": "python",
   "pygments_lexer": "ipython3",
   "version": "3.11.10"
  }
 },
 "nbformat": 4,
 "nbformat_minor": 2
}
