{
 "cells": [
  {
   "cell_type": "code",
   "execution_count": null,
   "metadata": {},
   "outputs": [],
   "source": [
    "import csv\n",
    "with open(\"student.csv\",encoding=\"utf-8\") as file:\n",
    "    name=csv.reader(file)\n",
    "    print(type(name))\n",
    "    for row in name:\n",
    "        print(type(name))"
   ]
  },
  {
   "cell_type": "code",
   "execution_count": null,
   "metadata": {},
   "outputs": [],
   "source": [
    "import csv\n",
    "\n",
    "# 讀取CSV文件\n",
    "with open('student.csv', 'r', newline='', encoding='utf-8') as file:\n",
    "    csv_reader = csv.DictReader(file)\n",
    "    data = list(csv_reader)\n",
    "\n",
    "# 輸出所有數據\n",
    "for row in data:\n",
    "    print(row)\n",
    "\n",
    "# 篩選年齡大於25的人\n",
    "filtered_data = [row for row in data if int(row['age']) > 25]\n",
    "\n",
    "# 輸出篩選後的結果\n",
    "print(\"\\n篩選後的結果:\")\n",
    "for row in filtered_data:\n",
    "    print(row)\n",
    "\n",
    "# 將篩選後的結果儲存到新的CSV文件\n",
    "with open('filtered_data.csv', 'w', newline='', encoding='utf-8') as file:\n",
    "    fieldnames = ['name', 'age', 'city']\n",
    "    csv_writer = csv.DictWriter(file, fieldnames=fieldnames)\n",
    "    \n",
    "    csv_writer.writeheader()\n",
    "    csv_writer.writerows(filtered_data)\n",
    "\n",
    "print(\"\\n篩選後的數據已保存到 filtered_data.csv\")"
   ]
  },
  {
   "cell_type": "code",
   "execution_count": null,
   "metadata": {},
   "outputs": [],
   "source": [
    "import csv\n",
    "open(\"student.csv\",encoding=\"utf-8\") as file:\n"
   ]
  }
 ],
 "metadata": {
  "kernelspec": {
   "display_name": "tvdi",
   "language": "python",
   "name": "python3"
  },
  "language_info": {
   "codemirror_mode": {
    "name": "ipython",
    "version": 3
   },
   "file_extension": ".py",
   "mimetype": "text/x-python",
   "name": "python",
   "nbconvert_exporter": "python",
   "pygments_lexer": "ipython3",
   "version": "3.11.10"
  }
 },
 "nbformat": 4,
 "nbformat_minor": 2
}
